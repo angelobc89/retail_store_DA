{
 "cells": [
  {
   "cell_type": "markdown",
   "id": "2a8152e3-418e-4a88-ad2f-4e3688490722",
   "metadata": {},
   "source": [
    "# Introduction: \n",
    "\n",
    "This research project focuses on exploratory data analysis of a dataset containing information about various products of the sport retail store. The target audience is technical, with a focus on methodology. The data *preprocessing* phase involved cleaning missing values and checking for duplicates, performed with **Excel** previously and **SQL** here (the SQL preprocessing will be shown below). \n",
    "\n",
    "The analysis was conducted using 90% **SQL** (SQLite). To deal with some SQLite limitations, a bit of **Pandas** has been used.  \n",
    "Finally, data visualization was performed using **Seaborn**.\n",
    "\n",
    "The research explored relationships between listing prices, discounts, and sale prices, identified top revenue-generating products, and examined price categories and brands that generated the most revenue. Additionally, correlations between the number of reviews, length of descriptions, and revenue were analyzed. The research also confirmed the product category and analyzed revenue trends by month and brand. Overall, this research aims to provide insights into pricing, customer behavior, and revenue generation based on the analyzed dataset.\n"
   ]
  },
  {
   "cell_type": "markdown",
   "id": "8a4b4091-1509-4d74-9cf0-dca6d8a18164",
   "metadata": {
    "tags": []
   },
   "source": [
    "### Prepare libraries and connect database.\n",
    "All the data will be imported from a SQLite database. So we need to connect it before start.  \n",
    "SQL is loaded and the database connected to Jupyter Lab using Ipython-SQL magic commands. It needs to be installed previously using pip/conda.\n"
   ]
  },
  {
   "cell_type": "code",
   "execution_count": 1,
   "id": "8b72830d-68db-4b91-8a69-93283058b6d3",
   "metadata": {
    "tags": []
   },
   "outputs": [],
   "source": [
    "import pandas as pd\n",
    "import seaborn as sns\n",
    "import matplotlib.pyplot as plt\n",
    "from sqlalchemy import create_engine"
   ]
  },
  {
   "cell_type": "code",
   "execution_count": 2,
   "id": "2d920c85-bd8e-4bd1-a26c-e859c988fcb8",
   "metadata": {
    "tags": []
   },
   "outputs": [],
   "source": [
    "%load_ext sql\n"
   ]
  },
  {
   "cell_type": "code",
   "execution_count": 3,
   "id": "18777672-54c2-4ea4-9131-3e688ce14a77",
   "metadata": {
    "tags": []
   },
   "outputs": [],
   "source": [
    "%sql sqlite:///C:/Users/angel/retailDB.sqlite"
   ]
  },
  {
   "cell_type": "markdown",
   "id": "2c979405-1f0d-4812-bbe1-0440ddac61c7",
   "metadata": {
    "tags": []
   },
   "source": [
    "### Exploring the database\n",
    "\n",
    "To begin with, our first task is to determine the composition of our database. In order to accomplish this, we will execute queries to retrieve the table names and descriptions of their columns."
   ]
  },
  {
   "cell_type": "code",
   "execution_count": 4,
   "id": "22521780-c147-428a-8f2b-3e3677c6ce56",
   "metadata": {
    "tags": []
   },
   "outputs": [
    {
     "name": "stdout",
     "output_type": "stream",
     "text": [
      " * sqlite:///C:/Users/angel/retailDB.sqlite\n",
      "Done.\n"
     ]
    },
    {
     "data": {
      "text/html": [
       "<table>\n",
       "    <thead>\n",
       "        <tr>\n",
       "            <th>tbl_name</th>\n",
       "            <th>sql</th>\n",
       "        </tr>\n",
       "    </thead>\n",
       "    <tbody>\n",
       "        <tr>\n",
       "            <td>finance</td>\n",
       "            <td>CREATE TABLE finance (\r",
       "<br>\tproduct_id VARCHAR(50),\r",
       "<br>\tlisting_price REAL, sale_price REAL, discount REAL, revenue REAL, modified_listing_price REAL, modified_sale_price REAL, modified_discount REAL, modified_revenue REAL)</td>\n",
       "        </tr>\n",
       "        <tr>\n",
       "            <td>info</td>\n",
       "            <td>CREATE TABLE info (\r",
       "<br>\tproduct_name VARCHAR(64),\r",
       "<br>\tproduct_id VARCHAR(50),\r",
       "<br>\tdescription VARCHAR(512)\r",
       "<br>, modified_product_name VARCHAR, modified_description VARCHAR)</td>\n",
       "        </tr>\n",
       "        <tr>\n",
       "            <td>brands</td>\n",
       "            <td>CREATE TABLE brands (\r",
       "<br>\tproduct_id VARCHAR(50),\r",
       "<br>\tbrand VARCHAR(50)\r",
       "<br>, modified_brand VARCHAR)</td>\n",
       "        </tr>\n",
       "        <tr>\n",
       "            <td>reviews</td>\n",
       "            <td>CREATE TABLE reviews (\r",
       "<br>\tproduct_id VARCHAR(50),\r",
       "<br>\trating VARCHAR(50),\r",
       "<br>\treviews VARCHAR(50),\r",
       "<br>\t&quot;Hour&quot; REAL,\r",
       "<br>\t&quot;minute&quot; REAL,\r",
       "<br>\treal_rating REAL,\r",
       "<br>\treal_reviews REAL,\r",
       "<br>\t&quot;Unnamed: 7&quot; VARCHAR(50)\r",
       "<br>)</td>\n",
       "        </tr>\n",
       "        <tr>\n",
       "            <td>traffic</td>\n",
       "            <td>CREATE TABLE traffic (\r",
       "<br>\tproduct_id VARCHAR(50),\r",
       "<br>\tlast_visited TEXT(50)\r",
       "<br>, modified_last_visited TEXT)</td>\n",
       "        </tr>\n",
       "    </tbody>\n",
       "</table>"
      ],
      "text/plain": [
       "[('finance', 'CREATE TABLE finance (\\r\\n\\tproduct_id VARCHAR(50),\\r\\n\\tlisting_price REAL, sale_price REAL, discount REAL, revenue REAL, modified_listing_price REAL, modified_sale_price REAL, modified_discount REAL, modified_revenue REAL)'),\n",
       " ('info', 'CREATE TABLE info (\\r\\n\\tproduct_name VARCHAR(64),\\r\\n\\tproduct_id VARCHAR(50),\\r\\n\\tdescription VARCHAR(512)\\r\\n, modified_product_name VARCHAR, modified_description VARCHAR)'),\n",
       " ('brands', 'CREATE TABLE brands (\\r\\n\\tproduct_id VARCHAR(50),\\r\\n\\tbrand VARCHAR(50)\\r\\n, modified_brand VARCHAR)'),\n",
       " ('reviews', 'CREATE TABLE reviews (\\r\\n\\tproduct_id VARCHAR(50),\\r\\n\\trating VARCHAR(50),\\r\\n\\treviews VARCHAR(50),\\r\\n\\t\"Hour\" REAL,\\r\\n\\t\"minute\" REAL,\\r\\n\\treal_rating REAL,\\r\\n\\treal_reviews REAL,\\r\\n\\t\"Unnamed: 7\" VARCHAR(50)\\r\\n)'),\n",
       " ('traffic', 'CREATE TABLE traffic (\\r\\n\\tproduct_id VARCHAR(50),\\r\\n\\tlast_visited TEXT(50)\\r\\n, modified_last_visited TEXT)')]"
      ]
     },
     "execution_count": 4,
     "metadata": {},
     "output_type": "execute_result"
    }
   ],
   "source": [
    "%%sql \n",
    "SELECT \n",
    "    tbl_name, \n",
    "    sql     \n",
    "FROM sqlite_master \n",
    "WHERE type = 'table'"
   ]
  },
  {
   "cell_type": "markdown",
   "id": "9240b384-1b33-4c68-bc28-6ad8e7dd5bc2",
   "metadata": {},
   "source": [
    "Our database consists of five tables, each containing a few columns. Notably, all tables include a common column, *product_id*.\n",
    "\n",
    "The finance table holds essential information regarding **revenues and prices**. Furthermore, the column text is used to store timestamp values in SQLite.\n",
    "\n",
    "In our exploration, we will delve into identifying and handling missing values as well as detecting and managing duplicate values within the database."
   ]
  },
  {
   "cell_type": "code",
   "execution_count": 5,
   "id": "404e03a9-a97d-4db5-b41a-58eec7d0ef8a",
   "metadata": {
    "tags": []
   },
   "outputs": [
    {
     "name": "stdout",
     "output_type": "stream",
     "text": [
      " * sqlite:///C:/Users/angel/retailDB.sqlite\n",
      "Done.\n"
     ]
    },
    {
     "data": {
      "text/html": [
       "<table>\n",
       "    <thead>\n",
       "        <tr>\n",
       "            <th>total_rows</th>\n",
       "            <th>count_description</th>\n",
       "            <th>count_listing_price</th>\n",
       "            <th>count_last_visited</th>\n",
       "        </tr>\n",
       "    </thead>\n",
       "    <tbody>\n",
       "        <tr>\n",
       "            <td>3179</td>\n",
       "            <td>3179</td>\n",
       "            <td>3179</td>\n",
       "            <td>3179</td>\n",
       "        </tr>\n",
       "    </tbody>\n",
       "</table>"
      ],
      "text/plain": [
       "[(3179, 3179, 3179, 3179)]"
      ]
     },
     "execution_count": 5,
     "metadata": {},
     "output_type": "execute_result"
    }
   ],
   "source": [
    "%%sql\n",
    "-- Search non-missing values.\n",
    "\n",
    "SELECT\n",
    "    COUNT(*) AS total_rows,\n",
    "    COUNT(description) AS count_description,\n",
    "    COUNT(sale_price) AS count_listing_price,\n",
    "    COUNT(last_visited) AS count_last_visited\n",
    "FROM info AS i\n",
    "    INNER JOIN finance AS f\n",
    "    ON i.product_id = f.product_id\n",
    "    INNER JOIN traffic AS t\n",
    "    ON t.product_id = i.product_id"
   ]
  },
  {
   "cell_type": "markdown",
   "id": "0daf00f1-e484-45a7-b367-7c26fe80dbb6",
   "metadata": {
    "tags": []
   },
   "source": [
    "#### Database Exploration: Checking for Missing Values\n",
    "\n",
    "During our examination of the database, it appears that missing values are not prevalent.  \n",
    "They are infrequent across the tables. In order to validate this observation, let's proceed with a closer inspection of the tables."
   ]
  },
  {
   "cell_type": "code",
   "execution_count": 6,
   "id": "8dd62a6a-7108-4420-bea0-d349e3eed847",
   "metadata": {
    "tags": []
   },
   "outputs": [
    {
     "name": "stdout",
     "output_type": "stream",
     "text": [
      " * sqlite:///C:/Users/angel/retailDB.sqlite\n",
      "Done.\n"
     ]
    },
    {
     "data": {
      "text/html": [
       "<table>\n",
       "    <thead>\n",
       "        <tr>\n",
       "            <th>product_id</th>\n",
       "            <th>listing_price</th>\n",
       "            <th>sale_price</th>\n",
       "            <th>discount</th>\n",
       "            <th>revenue</th>\n",
       "            <th>modified_listing_price</th>\n",
       "            <th>modified_sale_price</th>\n",
       "            <th>modified_discount</th>\n",
       "            <th>modified_revenue</th>\n",
       "        </tr>\n",
       "    </thead>\n",
       "    <tbody>\n",
       "        <tr>\n",
       "            <td>AH2430</td>\n",
       "            <td>None</td>\n",
       "            <td>None</td>\n",
       "            <td>None</td>\n",
       "            <td>None</td>\n",
       "            <td>None</td>\n",
       "            <td>None</td>\n",
       "            <td>None</td>\n",
       "            <td>None</td>\n",
       "        </tr>\n",
       "        <tr>\n",
       "            <td>G27341</td>\n",
       "            <td>76.0</td>\n",
       "            <td>38.0</td>\n",
       "            <td>0.5</td>\n",
       "            <td>1641.0</td>\n",
       "            <td>76.0</td>\n",
       "            <td>38.0</td>\n",
       "            <td>0.5</td>\n",
       "            <td>1641.0</td>\n",
       "        </tr>\n",
       "        <tr>\n",
       "            <td>CM0081</td>\n",
       "            <td>10.0</td>\n",
       "            <td>6.0</td>\n",
       "            <td>0.4</td>\n",
       "            <td>399.0</td>\n",
       "            <td>10.0</td>\n",
       "            <td>6.0</td>\n",
       "            <td>0.4</td>\n",
       "            <td>399.0</td>\n",
       "        </tr>\n",
       "        <tr>\n",
       "            <td>B44832</td>\n",
       "            <td>70.0</td>\n",
       "            <td>35.0</td>\n",
       "            <td>0.5</td>\n",
       "            <td>2204.0</td>\n",
       "            <td>70.0</td>\n",
       "            <td>35.0</td>\n",
       "            <td>0.5</td>\n",
       "            <td>2204.0</td>\n",
       "        </tr>\n",
       "        <tr>\n",
       "            <td>D98205</td>\n",
       "            <td>80.0</td>\n",
       "            <td>40.0</td>\n",
       "            <td>0.5</td>\n",
       "            <td>5183.0</td>\n",
       "            <td>80.0</td>\n",
       "            <td>40.0</td>\n",
       "            <td>0.5</td>\n",
       "            <td>5183.0</td>\n",
       "        </tr>\n",
       "        <tr>\n",
       "            <td>B75586</td>\n",
       "            <td>48.0</td>\n",
       "            <td>19.0</td>\n",
       "            <td>0.6</td>\n",
       "            <td>1555.0</td>\n",
       "            <td>48.0</td>\n",
       "            <td>19.0</td>\n",
       "            <td>0.6</td>\n",
       "            <td>1555.0</td>\n",
       "        </tr>\n",
       "        <tr>\n",
       "            <td>CG4051</td>\n",
       "            <td>48.0</td>\n",
       "            <td>24.0</td>\n",
       "            <td>0.5</td>\n",
       "            <td>86.0</td>\n",
       "            <td>48.0</td>\n",
       "            <td>24.0</td>\n",
       "            <td>0.5</td>\n",
       "            <td>86.0</td>\n",
       "        </tr>\n",
       "        <tr>\n",
       "            <td>CM0080</td>\n",
       "            <td>10.0</td>\n",
       "            <td>6.0</td>\n",
       "            <td>0.4</td>\n",
       "            <td>75.0</td>\n",
       "            <td>10.0</td>\n",
       "            <td>6.0</td>\n",
       "            <td>0.4</td>\n",
       "            <td>75.0</td>\n",
       "        </tr>\n",
       "        <tr>\n",
       "            <td>B75990</td>\n",
       "            <td>56.0</td>\n",
       "            <td>28.0</td>\n",
       "            <td>0.5</td>\n",
       "            <td>806.0</td>\n",
       "            <td>56.0</td>\n",
       "            <td>28.0</td>\n",
       "            <td>0.5</td>\n",
       "            <td>806.0</td>\n",
       "        </tr>\n",
       "        <tr>\n",
       "            <td>EE5761</td>\n",
       "            <td>66.0</td>\n",
       "            <td>40.0</td>\n",
       "            <td>0.4</td>\n",
       "            <td>2779.0</td>\n",
       "            <td>66.0</td>\n",
       "            <td>40.0</td>\n",
       "            <td>0.4</td>\n",
       "            <td>2779.0</td>\n",
       "        </tr>\n",
       "    </tbody>\n",
       "</table>"
      ],
      "text/plain": [
       "[('AH2430', 'None', 'None', None, 'None', None, None, None, None),\n",
       " ('G27341', 76.0, 38.0, 0.5, 1641.0, 76.0, 38.0, 0.5, 1641.0),\n",
       " ('CM0081', 10.0, 6.0, 0.4, 399.0, 10.0, 6.0, 0.4, 399.0),\n",
       " ('B44832', 70.0, 35.0, 0.5, 2204.0, 70.0, 35.0, 0.5, 2204.0),\n",
       " ('D98205', 80.0, 40.0, 0.5, 5183.0, 80.0, 40.0, 0.5, 5183.0),\n",
       " ('B75586', 48.0, 19.0, 0.6, 1555.0, 48.0, 19.0, 0.6, 1555.0),\n",
       " ('CG4051', 48.0, 24.0, 0.5, 86.0, 48.0, 24.0, 0.5, 86.0),\n",
       " ('CM0080', 10.0, 6.0, 0.4, 75.0, 10.0, 6.0, 0.4, 75.0),\n",
       " ('B75990', 56.0, 28.0, 0.5, 806.0, 56.0, 28.0, 0.5, 806.0),\n",
       " ('EE5761', 66.0, 40.0, 0.4, 2779.0, 66.0, 40.0, 0.4, 2779.0)]"
      ]
     },
     "execution_count": 6,
     "metadata": {},
     "output_type": "execute_result"
    }
   ],
   "source": [
    "%%sql\n",
    "\n",
    "--SELECT * FROM traffic LIMIT 20;\n",
    "--SELECT * FROM info LIMIT 10;\n",
    "--SELECT * FROM brands LIMIT 10;\n",
    "--SELECT * FROM reviews LIMIT 10;\n",
    "SELECT * FROM finance LIMIT 10;"
   ]
  },
  {
   "cell_type": "markdown",
   "id": "beab4244-1173-4b13-b2b0-cf5dc84645ae",
   "metadata": {},
   "source": [
    "### Data cleaning\n",
    "Upon further examination, it appears that the value \"None\" is used to represent missing values across all tables in the database. However, the tables themselves indicate these values as \"Not Null,\" which suggests that they are valid entries.\n",
    "\n",
    "To address this issue, we have two possible approaches:\n",
    "\n",
    "    1.Converting values to NULL: We can update the tables by replacing the \"None\" values with NULL using the UPDATE statement. Afterward, we can rerun the initial query to verify the absence of missing values.\n",
    "\n",
    "    2.Creating new columns: Alternatively, we can create new columns for each existing column that contains \"None\" values. This allows us to preserve the original data while explicitly indicating the presence of missing values in the new columns.\n",
    "\n",
    "Considering the potential for mistakes and the ease of reverting changes, we will opt for the second approach and create new columns for the columns with \"None\" values. Should any issues arise, we can easily drop the newly created columns without affecting the original table structure.\n"
   ]
  },
  {
   "cell_type": "code",
   "execution_count": 7,
   "id": "31ecfea3-8058-470b-af18-c3ff47aaf77a",
   "metadata": {
    "tags": []
   },
   "outputs": [
    {
     "name": "stdout",
     "output_type": "stream",
     "text": [
      " * sqlite:///C:/Users/angel/retailDB.sqlite\n",
      "(sqlite3.OperationalError) duplicate column name: modified_listing_price\n",
      "[SQL: ALTER TABLE finance \n",
      "ADD modified_listing_price REAL;]\n",
      "(Background on this error at: https://sqlalche.me/e/20/e3q8)\n"
     ]
    }
   ],
   "source": [
    "%%sql\n",
    "\n",
    "\n",
    "ALTER TABLE finance \n",
    "ADD modified_listing_price REAL;\n",
    "ALTER TABLE finance \n",
    "ADD modified_sale_price REAL;\n",
    "ALTER TABLE finance \n",
    "ADD modified_discount REAL;\n",
    "ALTER TABLE finance \n",
    "ADD modified_revenue REAL;\n",
    "\n",
    "\n",
    "UPDATE finance \n",
    "SET modified_listing_price = CASE WHEN listing_price = 'None' THEN NULL ELSE listing_price END;\n",
    "UPDATE finance \n",
    "SET modified_sale_price = CASE WHEN sale_price = 'None' THEN NULL ELSE sale_price END;\n",
    "UPDATE finance \n",
    "SET modified_discount = CASE WHEN discount = 'None' THEN NULL ELSE discount END;\n",
    "UPDATE finance \n",
    "SET modified_revenue = CASE WHEN revenue = 'None' THEN NULL ELSE revenue END;\n",
    "\n",
    "\n"
   ]
  },
  {
   "cell_type": "markdown",
   "id": "58c6e000-108f-4151-90e5-b54413f6e49d",
   "metadata": {
    "tags": []
   },
   "source": [
    "### Checking missing values of Finance Table\n",
    "Before proceeding with the handling of missing values, let's verify the columns in the Finance table. It is important to note that the columns in the Finance table have already been created.\n",
    "\n",
    "Upon inspection, it becomes evident that the number of non-missing rows should differ from the total number of rows in the table. After analyzing the Finance table, I have identified 59 missing values across all columns. Interestingly, the count of missing values is consistent across each column in the table."
   ]
  },
  {
   "cell_type": "code",
   "execution_count": 8,
   "id": "df3267e0-d246-4c30-aa9f-43561c940a2e",
   "metadata": {
    "tags": []
   },
   "outputs": [
    {
     "name": "stdout",
     "output_type": "stream",
     "text": [
      " * sqlite:///C:/Users/angel/retailDB.sqlite\n",
      "Done.\n"
     ]
    },
    {
     "data": {
      "text/html": [
       "<table>\n",
       "    <thead>\n",
       "        <tr>\n",
       "            <th>All_rows</th>\n",
       "            <th>Non_missing_values</th>\n",
       "        </tr>\n",
       "    </thead>\n",
       "    <tbody>\n",
       "        <tr>\n",
       "            <td>3179</td>\n",
       "            <td>3120</td>\n",
       "        </tr>\n",
       "    </tbody>\n",
       "</table>"
      ],
      "text/plain": [
       "[(3179, 3120)]"
      ]
     },
     "execution_count": 8,
     "metadata": {},
     "output_type": "execute_result"
    }
   ],
   "source": [
    "%%sql\n",
    "\n",
    "SELECT \n",
    "    COUNT(*) AS All_rows, \n",
    "    COUNT(modified_revenue) Non_missing_values \n",
    "FROM finance LIMIT 10;"
   ]
  },
  {
   "cell_type": "markdown",
   "id": "b5ed9076-8de8-4e81-9cb4-68b3757d3eca",
   "metadata": {},
   "source": [
    "### Verifying Missing Values in All Columns (SQL Approach)\n",
    "After successfully verifying the Finance table, we will now proceed to perform the same process on all columns using SQL queries exclusively.\n",
    "\n",
    "By executing the necessary SQL queries, we will be able to systematically examine each column in the database and identify any missing values present. This approach allows us to efficiently analyze and handle missing values across multiple tables and columns."
   ]
  },
  {
   "cell_type": "code",
   "execution_count": 9,
   "id": "db5bb0dd-f0ea-4a8a-aa02-5aaab1028b79",
   "metadata": {
    "tags": []
   },
   "outputs": [
    {
     "name": "stdout",
     "output_type": "stream",
     "text": [
      " * sqlite:///C:/Users/angel/retailDB.sqlite\n",
      "(sqlite3.OperationalError) duplicate column name: modified_product_name\n",
      "[SQL: ALTER TABLE info \n",
      "ADD modified_product_name VARCHAR;]\n",
      "(Background on this error at: https://sqlalche.me/e/20/e3q8)\n"
     ]
    }
   ],
   "source": [
    "%%sql\n",
    "ALTER TABLE info \n",
    "ADD modified_product_name VARCHAR;\n",
    "ALTER TABLE info \n",
    "ADD modified_description VARCHAR;\n",
    "\n",
    "UPDATE info\n",
    "SET modified_product_name = CASE WHEN product_name = 'None' THEN NULL ELSE product_name END;\n",
    "UPDATE info \n",
    "SET modified_description = CASE WHEN description = 'None' THEN NULL ELSE description END;\n",
    "\n"
   ]
  },
  {
   "cell_type": "code",
   "execution_count": 10,
   "id": "88b2f45f-be83-47d5-9eb6-e352c10f5a75",
   "metadata": {
    "tags": []
   },
   "outputs": [
    {
     "name": "stdout",
     "output_type": "stream",
     "text": [
      " * sqlite:///C:/Users/angel/retailDB.sqlite\n",
      "(sqlite3.OperationalError) duplicate column name: modified_brand\n",
      "[SQL: ALTER TABLE brands \n",
      "ADD modified_brand VARCHAR;]\n",
      "(Background on this error at: https://sqlalche.me/e/20/e3q8)\n"
     ]
    }
   ],
   "source": [
    "%%sql\n",
    "\n",
    "ALTER TABLE brands \n",
    "ADD modified_brand VARCHAR;\n",
    "\n",
    "UPDATE brands\n",
    "SET modified_brand = CASE WHEN brand = 'None' THEN NULL ELSE brand END;\n",
    "\n"
   ]
  },
  {
   "cell_type": "code",
   "execution_count": 11,
   "id": "3fd12610-dd56-4ead-80bc-439c884d7f96",
   "metadata": {
    "tags": []
   },
   "outputs": [
    {
     "name": "stdout",
     "output_type": "stream",
     "text": [
      " * sqlite:///C:/Users/angel/retailDB.sqlite\n",
      "(sqlite3.OperationalError) duplicate column name: modified_last_visited\n",
      "[SQL: --Add column\n",
      "ALTER TABLE traffic \n",
      "ADD modified_last_visited TEXT;]\n",
      "(Background on this error at: https://sqlalche.me/e/20/e3q8)\n"
     ]
    }
   ],
   "source": [
    "%%sql\n",
    "--Add column\n",
    "ALTER TABLE traffic \n",
    "ADD modified_last_visited TEXT;\n",
    "\n",
    "\n",
    "UPDATE traffic\n",
    "SET modified_last_visited = CASE WHEN last_visited = 'None' THEN NULL ELSE last_visited END;"
   ]
  },
  {
   "cell_type": "markdown",
   "id": "462fbd7b-1898-4cbe-9361-91c96968ccdd",
   "metadata": {},
   "source": [
    "### Repeating Missing Values Test and Observations\n",
    "We have conducted the missing values test again in the new columns and have obtained the number of missing values for each column in the database. Upon analysis, we have observed that only the last_visited column, which pertains to traffic information, contains a notable number of missing values, exceeding 5% of the total values in that column. However, the remaining columns do not exhibit a significant amount of missing values.\n",
    "\n",
    "This observation indicates that the majority of columns in the database maintain a relatively complete dataset, with missing values primarily concentrated in the last_visited column."
   ]
  },
  {
   "cell_type": "code",
   "execution_count": 12,
   "id": "28918f44-84c3-4902-aa67-73418e1f8c0a",
   "metadata": {
    "tags": []
   },
   "outputs": [
    {
     "name": "stdout",
     "output_type": "stream",
     "text": [
      " * sqlite:///C:/Users/angel/retailDB.sqlite\n",
      "Done.\n"
     ]
    },
    {
     "data": {
      "text/html": [
       "<table>\n",
       "    <thead>\n",
       "        <tr>\n",
       "            <th>total_rows</th>\n",
       "            <th>count_description</th>\n",
       "            <th>count_listing_price</th>\n",
       "            <th>count_last_visited</th>\n",
       "            <th>count_brand</th>\n",
       "            <th>count_ratings</th>\n",
       "        </tr>\n",
       "    </thead>\n",
       "    <tbody>\n",
       "        <tr>\n",
       "            <td>3179</td>\n",
       "            <td>3117</td>\n",
       "            <td>3120</td>\n",
       "            <td>2928</td>\n",
       "            <td>3120</td>\n",
       "            <td>3120</td>\n",
       "        </tr>\n",
       "    </tbody>\n",
       "</table>"
      ],
      "text/plain": [
       "[(3179, 3117, 3120, 2928, 3120, 3120)]"
      ]
     },
     "execution_count": 12,
     "metadata": {},
     "output_type": "execute_result"
    }
   ],
   "source": [
    "%%sql\n",
    "\n",
    "SELECT\n",
    "    COUNT(*) AS total_rows,\n",
    "    COUNT(modified_description) AS count_description,\n",
    "    COUNT(modified_sale_price) AS count_listing_price,\n",
    "    COUNT(modified_last_visited) AS count_last_visited,\n",
    "    COUNT(modified_brand) AS count_brand,\n",
    "    COUNT(real_rating) AS count_ratings\n",
    "FROM info AS i\n",
    "INNER JOIN finance AS f\n",
    "    ON i.product_id = f.product_id\n",
    "    INNER JOIN traffic AS t\n",
    "    ON t.product_id = i.product_id\n",
    "    INNER JOIN brands AS b\n",
    "    ON i.product_id = b.product_id\n",
    "    INNER JOIN reviews AS r\n",
    "    ON i.product_id = r.product_id"
   ]
  },
  {
   "cell_type": "markdown",
   "id": "4aefa769-f133-4034-8c4e-f453f6b31291",
   "metadata": {},
   "source": [
    "### Checking for Duplicates in the Product_id Column\n",
    "To ensure data integrity, it is important to verify if the product_id column contains any duplicate values. Duplicate entries in this column would indicate a potential issue with the uniqueness of the product identifiers.\n",
    "\n",
    "After performing a thorough examination, I can confirm that no duplicates were found in the product_id column. The uniqueness of the values in this column indicates that each product is uniquely identified within the database. This finding further solidifies the data quality and reinforces the integrity of the product_id column."
   ]
  },
  {
   "cell_type": "code",
   "execution_count": 13,
   "id": "05c816df-c8e9-4626-8f33-d1d15fff81eb",
   "metadata": {
    "tags": []
   },
   "outputs": [
    {
     "name": "stdout",
     "output_type": "stream",
     "text": [
      " * sqlite:///C:/Users/angel/retailDB.sqlite\n",
      "Done.\n"
     ]
    },
    {
     "data": {
      "text/html": [
       "<table>\n",
       "    <thead>\n",
       "        <tr>\n",
       "            <th>product_id</th>\n",
       "            <th>product_id_1</th>\n",
       "            <th>product_id_2</th>\n",
       "            <th>product_id_3</th>\n",
       "            <th>product_id_4</th>\n",
       "            <th>duplicates</th>\n",
       "        </tr>\n",
       "    </thead>\n",
       "    <tbody>\n",
       "    </tbody>\n",
       "</table>"
      ],
      "text/plain": [
       "[]"
      ]
     },
     "execution_count": 13,
     "metadata": {},
     "output_type": "execute_result"
    }
   ],
   "source": [
    "%%sql\n",
    "\n",
    "SELECT \n",
    "    i.product_id,\n",
    "    f.product_id,\n",
    "    t.product_id,\n",
    "    b.product_id,\n",
    "    r.product_id,\n",
    "    COUNT(*) AS duplicates\n",
    "FROM info AS i\n",
    "INNER JOIN finance AS f\n",
    "ON i.product_id = f.product_id\n",
    "INNER JOIN traffic AS t\n",
    "ON t.product_id = i.product_id\n",
    "INNER JOIN brands AS b\n",
    "ON i.product_id = b.product_id\n",
    "INNER JOIN reviews AS r\n",
    "ON i.product_id = r.product_id\n",
    "GROUP BY \n",
    "    i.product_id,\n",
    "    f.product_id,\n",
    "    t.product_id,\n",
    "    b.product_id,\n",
    "    r.product_id\n",
    "HAVING COUNT(*) > 1\n",
    "ORDER BY duplicates DESC;"
   ]
  },
  {
   "cell_type": "markdown",
   "id": "13662e4f-aec1-4d6c-8106-cda0f5f46d3d",
   "metadata": {},
   "source": [
    "### Dataset Prepared for Analysis\n",
    "Based on the clean dataset without missing values or duplicate entries, we can confidently proceed with the analysis. Our focus will be on comparing prices between **two prominent brands, Nike and Adidas**, to gain insights into the company's stock.\n",
    "\n",
    "In this dataset, we have a total of 77 unique prices, and the products belong to one of two brands: Nike or Adidas. To simplify the analysis and prevent overwhelming the table, I have decided to categorize the products into four **price levels**.\n",
    "\n",
    "This categorization will allow us to examine the distribution of products across different price ranges, providing a clearer picture of the stock and pricing dynamics of the company."
   ]
  },
  {
   "cell_type": "code",
   "execution_count": 14,
   "id": "6cf3d090-f97c-4e3e-b42b-1345ddebabbf",
   "metadata": {
    "tags": []
   },
   "outputs": [
    {
     "name": "stdout",
     "output_type": "stream",
     "text": [
      " * sqlite:///C:/Users/angel/retailDB.sqlite\n",
      "Done.\n"
     ]
    },
    {
     "data": {
      "text/html": [
       "<table>\n",
       "    <thead>\n",
       "        <tr>\n",
       "            <th>modified_brand</th>\n",
       "            <th>price_category</th>\n",
       "            <th>quantity</th>\n",
       "        </tr>\n",
       "    </thead>\n",
       "    <tbody>\n",
       "        <tr>\n",
       "            <td>Adidas</td>\n",
       "            <td>Exclusive</td>\n",
       "            <td>307</td>\n",
       "        </tr>\n",
       "        <tr>\n",
       "            <td>Nike</td>\n",
       "            <td>Exclusive</td>\n",
       "            <td>82</td>\n",
       "        </tr>\n",
       "        <tr>\n",
       "            <td>Nike</td>\n",
       "            <td>Premium</td>\n",
       "            <td>90</td>\n",
       "        </tr>\n",
       "        <tr>\n",
       "            <td>Adidas</td>\n",
       "            <td>Premium</td>\n",
       "            <td>849</td>\n",
       "        </tr>\n",
       "        <tr>\n",
       "            <td>Adidas</td>\n",
       "            <td>Average</td>\n",
       "            <td>1060</td>\n",
       "        </tr>\n",
       "        <tr>\n",
       "            <td>Nike</td>\n",
       "            <td>Average</td>\n",
       "            <td>16</td>\n",
       "        </tr>\n",
       "        <tr>\n",
       "            <td>Adidas</td>\n",
       "            <td>Budget</td>\n",
       "            <td>359</td>\n",
       "        </tr>\n",
       "        <tr>\n",
       "            <td>Nike</td>\n",
       "            <td>Budget</td>\n",
       "            <td>357</td>\n",
       "        </tr>\n",
       "    </tbody>\n",
       "</table>"
      ],
      "text/plain": [
       "[('Adidas', 'Exclusive', 307),\n",
       " ('Nike', 'Exclusive', 82),\n",
       " ('Nike', 'Premium', 90),\n",
       " ('Adidas', 'Premium', 849),\n",
       " ('Adidas', 'Average', 1060),\n",
       " ('Nike', 'Average', 16),\n",
       " ('Adidas', 'Budget', 359),\n",
       " ('Nike', 'Budget', 357)]"
      ]
     },
     "execution_count": 14,
     "metadata": {},
     "output_type": "execute_result"
    }
   ],
   "source": [
    "%%sql\n",
    "SELECT \n",
    "    b.modified_brand,\n",
    "    CASE\n",
    "        WHEN f.modified_listing_price < 42 THEN 'Budget'\n",
    "        WHEN f.modified_listing_price >= 42 AND f.modified_listing_price < 74 THEN 'Average'\n",
    "        WHEN f.modified_listing_price >= 74 AND f.modified_listing_price < 129 THEN 'Premium'\n",
    "        WHEN f.modified_listing_price >= 129 THEN 'Exclusive'\n",
    "        END AS price_category,\n",
    "    COUNT(*) AS quantity\n",
    "FROM finance AS f\n",
    "INNER JOIN brands AS b\n",
    "ON f.product_id = b.product_id\n",
    "WHERE f.modified_listing_price IS NOT NULL \n",
    "GROUP BY price_category, b.modified_brand\n",
    "ORDER BY f.modified_listing_price DESC;"
   ]
  },
  {
   "cell_type": "markdown",
   "id": "c6ec0629-3976-4fa7-ad00-e506a9569700",
   "metadata": {},
   "source": [
    "### Analyzing Listing Prices and Sale Prices\n",
    "Within our dataset, we have two distinct types of prices: listing prices and sale prices.\n",
    "\n",
    "The listing price, in a retail context, represents the initial price at which a product or item is listed or displayed for sale by a retailer. On the other hand, the sale price refers to the discounted price at which the product or item is ultimately sold to customers.\n",
    "\n",
    "To gain insights into the relationship between these two types of prices and the discounts offered, I will delve into the differences between listing prices and sale prices across all products. By analyzing this relationship, we can better understand the pricing strategies employed and the extent of the discounts applied to drive customer purchases.\n"
   ]
  },
  {
   "cell_type": "code",
   "execution_count": 15,
   "id": "b1c4655c-f85a-4bf9-817d-aa9f5d093209",
   "metadata": {
    "tags": []
   },
   "outputs": [
    {
     "name": "stdout",
     "output_type": "stream",
     "text": [
      " * sqlite:///C:/Users/angel/retailDB.sqlite\n",
      "Done.\n"
     ]
    },
    {
     "data": {
      "text/html": [
       "<table>\n",
       "    <thead>\n",
       "        <tr>\n",
       "            <th>modified_listing_price</th>\n",
       "            <th>modified_discount</th>\n",
       "            <th>modified_sale_price</th>\n",
       "            <th>control</th>\n",
       "        </tr>\n",
       "    </thead>\n",
       "    <tbody>\n",
       "        <tr>\n",
       "            <td>80.0</td>\n",
       "            <td>0.0</td>\n",
       "            <td>56.0</td>\n",
       "            <td>24.0</td>\n",
       "        </tr>\n",
       "        <tr>\n",
       "            <td>160.0</td>\n",
       "            <td>0.0</td>\n",
       "            <td>120.0</td>\n",
       "            <td>40.0</td>\n",
       "        </tr>\n",
       "        <tr>\n",
       "            <td>160.0</td>\n",
       "            <td>0.0</td>\n",
       "            <td>112.0</td>\n",
       "            <td>48.0</td>\n",
       "        </tr>\n",
       "        <tr>\n",
       "            <td>140.0</td>\n",
       "            <td>0.0</td>\n",
       "            <td>84.0</td>\n",
       "            <td>56.0</td>\n",
       "        </tr>\n",
       "        <tr>\n",
       "            <td>130.0</td>\n",
       "            <td>0.0</td>\n",
       "            <td>78.0</td>\n",
       "            <td>52.0</td>\n",
       "        </tr>\n",
       "        <tr>\n",
       "            <td>100.0</td>\n",
       "            <td>0.0</td>\n",
       "            <td>60.0</td>\n",
       "            <td>40.0</td>\n",
       "        </tr>\n",
       "        <tr>\n",
       "            <td>110.0</td>\n",
       "            <td>0.0</td>\n",
       "            <td>77.0</td>\n",
       "            <td>33.0</td>\n",
       "        </tr>\n",
       "        <tr>\n",
       "            <td>170.0</td>\n",
       "            <td>0.0</td>\n",
       "            <td>136.0</td>\n",
       "            <td>34.0</td>\n",
       "        </tr>\n",
       "        <tr>\n",
       "            <td>100.0</td>\n",
       "            <td>0.0</td>\n",
       "            <td>70.0</td>\n",
       "            <td>30.0</td>\n",
       "        </tr>\n",
       "        <tr>\n",
       "            <td>120.0</td>\n",
       "            <td>0.0</td>\n",
       "            <td>96.0</td>\n",
       "            <td>24.0</td>\n",
       "        </tr>\n",
       "    </tbody>\n",
       "</table>"
      ],
      "text/plain": [
       "[(80.0, 0.0, 56.0, 24.0),\n",
       " (160.0, 0.0, 120.0, 40.0),\n",
       " (160.0, 0.0, 112.0, 48.0),\n",
       " (140.0, 0.0, 84.0, 56.0),\n",
       " (130.0, 0.0, 78.0, 52.0),\n",
       " (100.0, 0.0, 60.0, 40.0),\n",
       " (110.0, 0.0, 77.0, 33.0),\n",
       " (170.0, 0.0, 136.0, 34.0),\n",
       " (100.0, 0.0, 70.0, 30.0),\n",
       " (120.0, 0.0, 96.0, 24.0)]"
      ]
     },
     "execution_count": 15,
     "metadata": {},
     "output_type": "execute_result"
    }
   ],
   "source": [
    "%%sql\n",
    "SELECT \n",
    "    modified_listing_price, \n",
    "    modified_discount, \n",
    "    modified_sale_price, \n",
    "    ROUND(modified_listing_price*(1-modified_discount) - modified_sale_price) AS control\n",
    "FROM finance\n",
    "WHERE modified_listing_price IS NOT NULL \n",
    "    AND ROUND(modified_listing_price*(1-modified_discount) - modified_sale_price)>1\n",
    "limit 10;"
   ]
  },
  {
   "cell_type": "markdown",
   "id": "e74014cd-b76b-4bbf-8831-9ea0aa4fdd25",
   "metadata": {},
   "source": [
    "### Analyzing Listing Prices, Sale Prices, and Discounts\n",
    "In general, the relationship between listing price, discount, and sale price follows the **formula: listing price * (1 - discount) = sale price**. However, upon analyzing the dataset, we have observed that numerous products with a **discount of 0%** were sold at a price below the listing price. This suggests that there may be anomalies in the data.\n",
    "\n",
    "Specifically, for the Nike brand, it is unusual to find that the *sale price is greater than the listing price*. Upon closer examination, we discovered that *many listing prices for Nike products are recorded as zero*. This inconsistency in the data explains the presence of negative values when calculating the differences between the sale and listing prices.\n",
    "\n",
    "Additionally, for the Nike brand, we observed that there are *no recorded discounts*, which is highly unlikely. These observations lead us to suspect that the input for Nike's discounts and listing prices may not have been accurately recorded in the dataset.\n",
    "\n",
    "To address this issue, we can calculate the proportion between the sale price and the listing price, which avoids division by zero. By doing so, we can derive a calculated discount value that is similar for both Nike and Adidas (approximately 30%). This suggests that the actual discounts and listing prices for Nike may have been improperly inputted or omitted from the dataset."
   ]
  },
  {
   "cell_type": "code",
   "execution_count": 16,
   "id": "41c0fdea-57a1-4e7f-a0d2-bf061b6bb96e",
   "metadata": {
    "tags": []
   },
   "outputs": [
    {
     "name": "stdout",
     "output_type": "stream",
     "text": [
      " * sqlite:///C:/Users/angel/retailDB.sqlite\n",
      "Done.\n"
     ]
    },
    {
     "data": {
      "text/html": [
       "<table>\n",
       "    <thead>\n",
       "        <tr>\n",
       "            <th>modified_brand</th>\n",
       "            <th>average_discount_pct</th>\n",
       "        </tr>\n",
       "    </thead>\n",
       "    <tbody>\n",
       "        <tr>\n",
       "            <td>Adidas</td>\n",
       "            <td>33.45</td>\n",
       "        </tr>\n",
       "        <tr>\n",
       "            <td>Nike</td>\n",
       "            <td>0.0</td>\n",
       "        </tr>\n",
       "    </tbody>\n",
       "</table>"
      ],
      "text/plain": [
       "[('Adidas', 33.45), ('Nike', 0.0)]"
      ]
     },
     "execution_count": 16,
     "metadata": {},
     "output_type": "execute_result"
    }
   ],
   "source": [
    "%%sql\n",
    "SELECT\n",
    "    b.modified_brand,\n",
    "    ROUND(AVG(f.modified_discount)*100,2) AS average_discount_pct\n",
    "FROM finance AS f\n",
    "INNER JOIN brands AS b\n",
    "ON f.product_id = b.product_id\n",
    "WHERE b.modified_brand IS NOT NULL\n",
    "GROUP BY b.modified_brand;"
   ]
  },
  {
   "cell_type": "code",
   "execution_count": 17,
   "id": "c7dafe50-8a41-44b5-b862-2ca40f3634cb",
   "metadata": {
    "tags": []
   },
   "outputs": [
    {
     "name": "stdout",
     "output_type": "stream",
     "text": [
      " * sqlite:///C:/Users/angel/retailDB.sqlite\n",
      "Done.\n"
     ]
    },
    {
     "data": {
      "text/html": [
       "<table>\n",
       "    <thead>\n",
       "        <tr>\n",
       "            <th>modified_brand</th>\n",
       "            <th>avg_difference</th>\n",
       "            <th>avg_pct_difference</th>\n",
       "        </tr>\n",
       "    </thead>\n",
       "    <tbody>\n",
       "        <tr>\n",
       "            <td>Adidas</td>\n",
       "            <td>24.51</td>\n",
       "            <td>0.33</td>\n",
       "        </tr>\n",
       "        <tr>\n",
       "            <td>Nike</td>\n",
       "            <td>-60.85</td>\n",
       "            <td>0.29</td>\n",
       "        </tr>\n",
       "    </tbody>\n",
       "</table>"
      ],
      "text/plain": [
       "[('Adidas', 24.51, 0.33), ('Nike', -60.85, 0.29)]"
      ]
     },
     "execution_count": 17,
     "metadata": {},
     "output_type": "execute_result"
    }
   ],
   "source": [
    "%%sql\n",
    "--Average price differences by brand\n",
    "SELECT \n",
    "    b.modified_brand,\n",
    "    ROUND(AVG(f.modified_listing_price - f.modified_sale_price),2) AS avg_difference, \n",
    "    ROUND(1 - AVG(f.modified_sale_price / f.modified_listing_price),2) AS avg_pct_difference\n",
    "FROM finance AS f\n",
    "INNER JOIN brands AS b\n",
    "ON b.product_id = f.product_id\n",
    "WHERE modified_brand IS NOT NULL\n",
    "GROUP BY brand;"
   ]
  },
  {
   "cell_type": "markdown",
   "id": "4f64429f-845b-4615-9631-813a5692dffd",
   "metadata": {},
   "source": [
    "### Analyzing Revenues by Product\n",
    "In this analysis, we will focus on examining the revenues generated by each product in the dataset. Specifically, we will identify the top ten products based on revenue.\n",
    "\n",
    "Upon evaluating the top performers, we have observed that the majority of these products belong to the Adidas brand. Additionally, all of the top ten revenue-generating products are footwear items with prices exceeding USD 130. This trend persists when expanding the analysis to the top 20 and top 30 revenue-generating products.   \n",
    "Finally, we have one outlier: the Air Jordan 10 retro."
   ]
  },
  {
   "cell_type": "code",
   "execution_count": 18,
   "id": "c4ec925a-ad01-40dd-a32f-566888bcb16a",
   "metadata": {
    "tags": []
   },
   "outputs": [
    {
     "name": "stdout",
     "output_type": "stream",
     "text": [
      " * sqlite:///C:/Users/angel/retailDB.sqlite\n",
      "Done.\n"
     ]
    },
    {
     "data": {
      "text/html": [
       "<table>\n",
       "    <thead>\n",
       "        <tr>\n",
       "            <th>product_id</th>\n",
       "            <th>product_name</th>\n",
       "            <th>modified_brand</th>\n",
       "            <th>modified_revenue</th>\n",
       "            <th>modified_listing_price</th>\n",
       "        </tr>\n",
       "    </thead>\n",
       "    <tbody>\n",
       "        <tr>\n",
       "            <td>310805-137</td>\n",
       "            <td>Air Jordan 10 Retro</td>\n",
       "            <td>Nike</td>\n",
       "            <td>64204.0</td>\n",
       "            <td>0.0</td>\n",
       "        </tr>\n",
       "        <tr>\n",
       "            <td>FV7826</td>\n",
       "            <td>Unisex Originals CRAIG GREEN KONTUUR II SHOES</td>\n",
       "            <td>Adidas</td>\n",
       "            <td>37150.0</td>\n",
       "            <td>240.0</td>\n",
       "        </tr>\n",
       "        <tr>\n",
       "            <td>FV6794</td>\n",
       "            <td>Unisex Originals CRAIG GREEN KONTUUR I SHOES</td>\n",
       "            <td>Adidas</td>\n",
       "            <td>34991.0</td>\n",
       "            <td>240.0</td>\n",
       "        </tr>\n",
       "        <tr>\n",
       "            <td>EG5185</td>\n",
       "            <td>Men&#x27;s adidas Running Universal Works Ultraboost 19 Shoes</td>\n",
       "            <td>Adidas</td>\n",
       "            <td>33838.0</td>\n",
       "            <td>200.0</td>\n",
       "        </tr>\n",
       "        <tr>\n",
       "            <td>EF9623</td>\n",
       "            <td>Men&#x27;s adidas Originals ZX 4000 4D Shoes</td>\n",
       "            <td>Adidas</td>\n",
       "            <td>31247.0</td>\n",
       "            <td>280.0</td>\n",
       "        </tr>\n",
       "        <tr>\n",
       "            <td>EF0893</td>\n",
       "            <td>Men&#x27;s Running Ultraboost PB Shoes</td>\n",
       "            <td>Adidas</td>\n",
       "            <td>30454.0</td>\n",
       "            <td>180.0</td>\n",
       "        </tr>\n",
       "        <tr>\n",
       "            <td>EG0761</td>\n",
       "            <td>Women&#x27;s Running Ultraboost 20 Shoes</td>\n",
       "            <td>Adidas</td>\n",
       "            <td>29986.0</td>\n",
       "            <td>170.0</td>\n",
       "        </tr>\n",
       "        <tr>\n",
       "            <td>EF2335</td>\n",
       "            <td>UNISEX adidas Originals Pharrell Williams Hu NMD Proud Shoes</td>\n",
       "            <td>Adidas</td>\n",
       "            <td>29699.0</td>\n",
       "            <td>220.0</td>\n",
       "        </tr>\n",
       "        <tr>\n",
       "            <td>EG1071</td>\n",
       "            <td>Women&#x27;s adidas by Stella Mccartney Running UltraBoost 20 Shoes</td>\n",
       "            <td>Adidas</td>\n",
       "            <td>28834.0</td>\n",
       "            <td>180.0</td>\n",
       "        </tr>\n",
       "        <tr>\n",
       "            <td>EG5933</td>\n",
       "            <td>Men&#x27;s Originals Salvapor 032c Shoes</td>\n",
       "            <td>Adidas</td>\n",
       "            <td>28762.0</td>\n",
       "            <td>170.0</td>\n",
       "        </tr>\n",
       "    </tbody>\n",
       "</table>"
      ],
      "text/plain": [
       "[('310805-137', 'Air Jordan 10 Retro', 'Nike', 64204.0, 0.0),\n",
       " ('FV7826', 'Unisex Originals CRAIG GREEN KONTUUR II SHOES', 'Adidas', 37150.0, 240.0),\n",
       " ('FV6794', 'Unisex Originals CRAIG GREEN KONTUUR I SHOES', 'Adidas', 34991.0, 240.0),\n",
       " ('EG5185', \"Men's adidas Running Universal Works Ultraboost 19 Shoes\", 'Adidas', 33838.0, 200.0),\n",
       " ('EF9623', \"Men's adidas Originals ZX 4000 4D Shoes\", 'Adidas', 31247.0, 280.0),\n",
       " ('EF0893', \"Men's Running Ultraboost PB Shoes\", 'Adidas', 30454.0, 180.0),\n",
       " ('EG0761', \"Women's Running Ultraboost 20 Shoes\", 'Adidas', 29986.0, 170.0),\n",
       " ('EF2335', 'UNISEX adidas Originals Pharrell Williams Hu NMD Proud Shoes', 'Adidas', 29699.0, 220.0),\n",
       " ('EG1071', \"Women's adidas by Stella Mccartney Running UltraBoost 20 Shoes\", 'Adidas', 28834.0, 180.0),\n",
       " ('EG5933', \"Men's Originals Salvapor 032c Shoes\", 'Adidas', 28762.0, 170.0)]"
      ]
     },
     "execution_count": 18,
     "metadata": {},
     "output_type": "execute_result"
    }
   ],
   "source": [
    "%%sql\n",
    "SELECT \n",
    "    f.product_id,\n",
    "    i.product_name,\n",
    "    b.modified_brand,\n",
    "    f.modified_revenue,\n",
    "    f.modified_listing_price\n",
    "FROM finance AS f\n",
    "INNER JOIN info AS i\n",
    "ON f.product_id = i.product_id\n",
    "INNER JOIN brands AS b\n",
    "ON f.product_id = b.product_id\n",
    "ORDER BY f.modified_revenue DESC\n",
    "LIMIT 10;"
   ]
  },
  {
   "cell_type": "markdown",
   "id": "406c2cdd-1aa4-437a-97e5-ddef30ce29fc",
   "metadata": {},
   "source": [
    "### Analyzing Revenues by Product Categories\n",
    "\n",
    "In order to check the revenue patterns across all products, I have further categorized the products into four distinct price categories. Based on this analysis, the following observations can be made:\n",
    "\n",
    "These findings confirm and highlight the dominance of Adidas, particularly in the premium and average price categories. However, it is interesting to note that the \"Exclusive\" category for Adidas falls behind both the premium and average categories in terms of revenue.  \n",
    "It could be attributed to the limited target audience of these exclusive products. The exclusivity factor may result in lower quantities available for sale, leading to a comparatively lower revenue generation despite potentially higher prices.  \n",
    "Further analysis and investigation into the factors influencing the performance of this category may be necessary.\n",
    "    "
   ]
  },
  {
   "cell_type": "code",
   "execution_count": 19,
   "id": "753f3ef8-8d91-40a6-946e-a9882f99e40b",
   "metadata": {
    "tags": []
   },
   "outputs": [
    {
     "name": "stdout",
     "output_type": "stream",
     "text": [
      " * sqlite:///C:/Users/angel/retailDB.sqlite\n",
      "Done.\n"
     ]
    },
    {
     "data": {
      "text/html": [
       "<table>\n",
       "    <thead>\n",
       "        <tr>\n",
       "            <th>brand</th>\n",
       "            <th>COUNT(*)</th>\n",
       "            <th>total_revenue</th>\n",
       "            <th>price_category</th>\n",
       "        </tr>\n",
       "    </thead>\n",
       "    <tbody>\n",
       "        <tr>\n",
       "            <td>Adidas</td>\n",
       "            <td>849</td>\n",
       "            <td>4626990.0</td>\n",
       "            <td>Premium</td>\n",
       "        </tr>\n",
       "        <tr>\n",
       "            <td>Adidas</td>\n",
       "            <td>1060</td>\n",
       "            <td>3233674.0</td>\n",
       "            <td>Average</td>\n",
       "        </tr>\n",
       "        <tr>\n",
       "            <td>Adidas</td>\n",
       "            <td>307</td>\n",
       "            <td>3014323.0</td>\n",
       "            <td>Exclusive</td>\n",
       "        </tr>\n",
       "        <tr>\n",
       "            <td>Adidas</td>\n",
       "            <td>359</td>\n",
       "            <td>651657.0</td>\n",
       "            <td>Budget</td>\n",
       "        </tr>\n",
       "        <tr>\n",
       "            <td>Nike</td>\n",
       "            <td>357</td>\n",
       "            <td>595360.0</td>\n",
       "            <td>Budget</td>\n",
       "        </tr>\n",
       "        <tr>\n",
       "            <td>Nike</td>\n",
       "            <td>82</td>\n",
       "            <td>128474.0</td>\n",
       "            <td>Exclusive</td>\n",
       "        </tr>\n",
       "        <tr>\n",
       "            <td>Nike</td>\n",
       "            <td>90</td>\n",
       "            <td>71845.0</td>\n",
       "            <td>Premium</td>\n",
       "        </tr>\n",
       "        <tr>\n",
       "            <td>Nike</td>\n",
       "            <td>16</td>\n",
       "            <td>6623.0</td>\n",
       "            <td>Average</td>\n",
       "        </tr>\n",
       "    </tbody>\n",
       "</table>"
      ],
      "text/plain": [
       "[('Adidas', 849, 4626990.0, 'Premium'),\n",
       " ('Adidas', 1060, 3233674.0, 'Average'),\n",
       " ('Adidas', 307, 3014323.0, 'Exclusive'),\n",
       " ('Adidas', 359, 651657.0, 'Budget'),\n",
       " ('Nike', 357, 595360.0, 'Budget'),\n",
       " ('Nike', 82, 128474.0, 'Exclusive'),\n",
       " ('Nike', 90, 71845.0, 'Premium'),\n",
       " ('Nike', 16, 6623.0, 'Average')]"
      ]
     },
     "execution_count": 19,
     "metadata": {},
     "output_type": "execute_result"
    }
   ],
   "source": [
    "%%sql\n",
    "SELECT\n",
    "    b.brand,\n",
    "    COUNT(*),\n",
    "    SUM(f.modified_revenue) AS total_revenue,\n",
    "    CASE\n",
    "        WHEN f.modified_listing_price < 42 THEN 'Budget'\n",
    "        WHEN f.modified_listing_price >= 42 AND f.modified_listing_price < 74 THEN 'Average'\n",
    "        WHEN f.modified_listing_price >= 74 AND f.modified_listing_price < 129 THEN 'Premium'\n",
    "        WHEN f.modified_listing_price >= 129 THEN 'Exclusive'\n",
    "        END AS price_category\n",
    "FROM finance AS f\n",
    "INNER JOIN brands AS b\n",
    "ON f.product_id = b.product_id\n",
    "WHERE b.modified_brand IS NOT NULL\n",
    "GROUP BY b.modified_brand, price_category\n",
    "ORDER BY total_revenue DESC"
   ]
  },
  {
   "cell_type": "markdown",
   "id": "f5da2d13-338c-4d39-b78f-3e9f107bd740",
   "metadata": {
    "tags": []
   },
   "source": [
    "### Analyzing the Correlation between Revenues and Reviews\n",
    "Understanding the correlation between revenues and reviews provides valuable insights into the impact of customer feedback and engagement on overall revenue generation.  \n",
    "To explore the relationship between revenues and reviews, we will perform the correlation calculation using Python since the CORR() function is not available in SQLite. The following steps will be taken:\n",
    "\n",
    "    1. Joining Corresponding Tables: We will join the relevant tables in SQL to obtain the necessary data for the analysis.\n",
    "\n",
    "    2. Converting SQL Query to DataFrame: The SQL query results will be converted into a DataFrame, allowing for further analysis and calculations.\n",
    "\n",
    "    3. Calculating Correlation: Using the DataFrame, we will calculate the correlation between revenues and reviews to determine the strength and direction of the relationship.\n",
    "    \n",
    "Based on the analysis, there is a significant relationship between revenues and reviews, with the number of reviews serving as a good explanatory variable for revenue generation. In other words, as the number of reviews increases, we anticipate a corresponding increase in revenues.\n",
    "\n",
    "Additionally, it is important to note the presence of an outlier in the data, characterized by over 200 reviews and revenues exceeding USD 60,000. Whether this outlier is included or excluded from the analysis, the correlation between revenues and reviews remains largely unaffected."
   ]
  },
  {
   "cell_type": "code",
   "execution_count": 20,
   "id": "0513402e-8a32-40b1-8ee5-6346af595d7e",
   "metadata": {
    "tags": []
   },
   "outputs": [
    {
     "name": "stdout",
     "output_type": "stream",
     "text": [
      " * sqlite:///C:/Users/angel/retailDB.sqlite\n",
      "Done.\n",
      "Correlation coefficient between Revenue and Reviews:  0.649529871989546\n"
     ]
    }
   ],
   "source": [
    "sql_query = %sql SELECT * FROM finance AS f INNER JOIN reviews AS r ON f.product_id = r.product_id\n",
    "finance_reviews = pd.DataFrame(sql_query)\n",
    "fin_rev_no_outliers = finance_reviews[finance_reviews[\"real_reviews\"] < 200]\n",
    "corr = fin_rev_no_outliers[\"modified_revenue\"].corr(fin_rev_no_outliers[\"real_reviews\"])\n",
    "\n",
    "print(\"Correlation coefficient between Revenue and Reviews: \", corr)\n"
   ]
  },
  {
   "cell_type": "code",
   "execution_count": 21,
   "id": "a08d4281-2988-460a-b549-0808dca5fcd3",
   "metadata": {
    "tags": []
   },
   "outputs": [
    {
     "data": {
      "text/plain": [
       "<seaborn.axisgrid.FacetGrid at 0x1e8d2cfaaa0>"
      ]
     },
     "execution_count": 21,
     "metadata": {},
     "output_type": "execute_result"
    },
    {
     "data": {
      "image/png": "[encoded data removed]",
      "text/plain": [
       "<Figure size 500x500 with 1 Axes>"
      ]
     },
     "metadata": {},
     "output_type": "display_data"
    }
   ],
   "source": [
    "#We have one outlier of more than 200\n",
    "sns.relplot(data = fin_rev_no_outliers, x = \"real_reviews\", y = \"modified_revenue\", kind = \"scatter\")"
   ]
  },
  {
   "cell_type": "markdown",
   "id": "17ebdf5e-d46e-4e64-bb2a-8b7dc11d5ff7",
   "metadata": {
    "tags": []
   },
   "source": [
    "### Correlation between ratings and revenue\n",
    "It appears that there is no significant correlation between the variables of ratings and revenue.\n"
   ]
  },
  {
   "cell_type": "code",
   "execution_count": 25,
   "id": "06c01865-86de-46e3-9312-5299a6a50111",
   "metadata": {
    "tags": []
   },
   "outputs": [
    {
     "name": "stdout",
     "output_type": "stream",
     "text": [
      "Correlation coefficient between Revenue and Reviews:  0.11343384836796092\n"
     ]
    }
   ],
   "source": [
    "fin_rev_no_outliers[\"real_rating\"] = fin_rev_no_outliers[\"real_rating\"].str.replace(\",\", \".\").astype(float) \n",
    "corr_rating_rev = fin_rev_no_outliers[\"real_rating\"].corr(fin_rev_no_outliers[\"modified_revenue\"])\n",
    "print(\"Correlation coefficient between Revenue and Reviews: \", corr_rating_rev)\n",
    "\n"
   ]
  },
  {
   "cell_type": "markdown",
   "id": "bdbadb32-6a86-499f-ac44-5034e39ecfb3",
   "metadata": {
    "tags": []
   },
   "source": [
    "### Analyzing the Influence of Description Length on Ratings\n",
    "In this analysis, we examine the potential relationship between the length of product descriptions and their corresponding ratings. After categorizing the description length into bins of 100 characters each, we explore whether any patterns or trends emerge.\n",
    "\n",
    "Our findings indicate that there are no clear patterns or strong correlations between the length of product descriptions and the associated ratings. The ratings appear to be similar across almost all bins, regardless of the description length."
   ]
  },
  {
   "cell_type": "code",
   "execution_count": 26,
   "id": "cdbe9c75-a914-4ad7-8875-c1a1962190e0",
   "metadata": {
    "tags": []
   },
   "outputs": [
    {
     "name": "stdout",
     "output_type": "stream",
     "text": [
      " * sqlite:///C:/Users/angel/retailDB.sqlite\n",
      "Done.\n"
     ]
    },
    {
     "data": {
      "text/html": [
       "<table>\n",
       "    <thead>\n",
       "        <tr>\n",
       "            <th>bin_start</th>\n",
       "            <th>bin_end</th>\n",
       "            <th>bin_count</th>\n",
       "            <th>average_rating</th>\n",
       "        </tr>\n",
       "    </thead>\n",
       "    <tbody>\n",
       "        <tr>\n",
       "            <td>0</td>\n",
       "            <td>100</td>\n",
       "            <td>68</td>\n",
       "            <td>2.33</td>\n",
       "        </tr>\n",
       "        <tr>\n",
       "            <td>100</td>\n",
       "            <td>200</td>\n",
       "            <td>503</td>\n",
       "            <td>2.87</td>\n",
       "        </tr>\n",
       "        <tr>\n",
       "            <td>200</td>\n",
       "            <td>300</td>\n",
       "            <td>1804</td>\n",
       "            <td>2.88</td>\n",
       "        </tr>\n",
       "        <tr>\n",
       "            <td>300</td>\n",
       "            <td>400</td>\n",
       "            <td>652</td>\n",
       "            <td>2.88</td>\n",
       "        </tr>\n",
       "        <tr>\n",
       "            <td>400</td>\n",
       "            <td>500</td>\n",
       "            <td>122</td>\n",
       "            <td>2.93</td>\n",
       "        </tr>\n",
       "        <tr>\n",
       "            <td>500</td>\n",
       "            <td>600</td>\n",
       "            <td>15</td>\n",
       "            <td>2.73</td>\n",
       "        </tr>\n",
       "        <tr>\n",
       "            <td>600</td>\n",
       "            <td>700</td>\n",
       "            <td>15</td>\n",
       "            <td>3.2</td>\n",
       "        </tr>\n",
       "    </tbody>\n",
       "</table>"
      ],
      "text/plain": [
       "[(0, 100, 68, 2.33),\n",
       " (100, 200, 503, 2.87),\n",
       " (200, 300, 1804, 2.88),\n",
       " (300, 400, 652, 2.88),\n",
       " (400, 500, 122, 2.93),\n",
       " (500, 600, 15, 2.73),\n",
       " (600, 700, 15, 3.2)]"
      ]
     },
     "execution_count": 26,
     "metadata": {},
     "output_type": "execute_result"
    }
   ],
   "source": [
    "%%sql\n",
    "SELECT \n",
    "    (LENGTH(i.description) / 100) * 100 AS bin_start,\n",
    "    ((LENGTH(i.description) / 100) + 1) * 100 AS bin_end,\n",
    "    COUNT(*) AS bin_count,\n",
    "    ROUND(AVG(r.real_rating), 2) AS average_rating \n",
    "FROM info AS i\n",
    "INNER JOIN reviews AS r\n",
    "ON i.product_id = r.product_id\n",
    "WHERE description IS NOT NULL\n",
    "GROUP BY (LENGTH(description) / 100)"
   ]
  },
  {
   "cell_type": "markdown",
   "id": "17d849c8-c4bb-45b7-b989-548e5d3cfefc",
   "metadata": {},
   "source": [
    "### Analyzing the Influence of Description Length on Revenues\n",
    "\n",
    "In addition to exploring the influence of description length on ratings, we also investigated its potential impact on revenues. After analyzing the data, we observed a weak positive relationship between the length of product descriptions and the generated revenues.  \n",
    "Therefore, it's not a good explanatory variable of revenues."
   ]
  },
  {
   "cell_type": "code",
   "execution_count": 27,
   "id": "d04dcb5c-baf2-4c90-b2ac-6bc264d4389d",
   "metadata": {
    "tags": []
   },
   "outputs": [
    {
     "name": "stdout",
     "output_type": "stream",
     "text": [
      " * sqlite:///C:/Users/angel/retailDB.sqlite\n",
      "Done.\n"
     ]
    },
    {
     "data": {
      "text/plain": [
       "<seaborn.axisgrid.FacetGrid at 0x1e8cd302d40>"
      ]
     },
     "execution_count": 27,
     "metadata": {},
     "output_type": "execute_result"
    },
    {
     "data": {
      "image/png": "[encoded data removed]",
      "text/plain": [
       "<Figure size 500x500 with 1 Axes>"
      ]
     },
     "metadata": {},
     "output_type": "display_data"
    }
   ],
   "source": [
    "sql_rev_desc = %sql SELECT f.modified_revenue, i.description FROM finance AS f INNER JOIN info AS i ON f.product_id = i.product_id\n",
    "df_rev_desc = pd.DataFrame(sql_rev_desc)\n",
    "df_rev_desc[\"len_description\"] = df_rev_desc[\"description\"].str.len()\n",
    "sns.relplot(data = df_rev_desc, x = \"len_description\", y = \"modified_revenue\", kind = \"scatter\")"
   ]
  },
  {
   "cell_type": "code",
   "execution_count": 28,
   "id": "92d7e078-2fd7-494e-8f7b-cff95dec3f5d",
   "metadata": {
    "tags": []
   },
   "outputs": [
    {
     "name": "stdout",
     "output_type": "stream",
     "text": [
      "Correlation between length of description and revenue:  0.23036405819786768\n"
     ]
    }
   ],
   "source": [
    "corr_rev_desc = df_rev_desc[\"len_description\"].corr(df_rev_desc[\"modified_revenue\"])\n",
    "print(\"Correlation between length of description and revenue: \", corr_rev_desc)"
   ]
  },
  {
   "cell_type": "markdown",
   "id": "09ac52f0-d0e1-4317-9a7c-e414e8d907cf",
   "metadata": {},
   "source": [
    "### Analyzing Product Types in the Dataset\n",
    "As we explore the dataset, it becomes apparent that the majority of products may belong to the footwear category. However, *without explicit product type segregation* in the dataset, it is important to **verify if there are other product types present**.\n",
    "\n",
    "To investigate this, I have created a Common Table Expression (CTE) utilizing regular expressions (RegEx) to identify and retrieve all potential footwear products. By analyzing the data within this CTE, we can gain insights into the prevalence of footwear within the dataset.\n",
    "\n",
    "Additionally, I have attempted to identify any products that are not included in the footwear CTE. This analysis aims to uncover any potential non-footwear items present in the dataset.\n",
    "\n",
    "After conducting a thorough analysis, we can confidently conclude that all the 300 products not included in the Common Table Expression (CTE) are, indeed, footwear items. This outcome reaffirms that **100% of the products in the dataset can be classified as footwear.**"
   ]
  },
  {
   "cell_type": "code",
   "execution_count": 29,
   "id": "434b1548-9c28-4fda-8c4d-8abb3f323d68",
   "metadata": {
    "tags": []
   },
   "outputs": [
    {
     "name": "stdout",
     "output_type": "stream",
     "text": [
      " * sqlite:///C:/Users/angel/retailDB.sqlite\n",
      "Done.\n"
     ]
    },
    {
     "data": {
      "text/html": [
       "<table>\n",
       "    <thead>\n",
       "        <tr>\n",
       "            <th>product_name</th>\n",
       "            <th>description</th>\n",
       "        </tr>\n",
       "    </thead>\n",
       "    <tbody>\n",
       "        <tr>\n",
       "            <td>NikeCourt Zoom Cage 3</td>\n",
       "            <td>The NikeCourt Zoom Cage 3 offers zoned durability with a lightweight, pliable overlay that moves with you. A Zoom Air unit in the heel delivers a low-profile ride with responsive cushioning.</td>\n",
       "        </tr>\n",
       "        <tr>\n",
       "            <td>Nike Metcon Sport</td>\n",
       "            <td>The Nike Metcon Sport is designed for heavy weightlifting like all Metcons, but is updated for increased agility during explosive movements and speed drills.</td>\n",
       "        </tr>\n",
       "        <tr>\n",
       "            <td>Jordan Mars 270</td>\n",
       "            <td>Drawing inspiration from four classic Air Jordans, the Jordan Mars 270 is a modern-day remix that offers a heavy dose of heritage, plus an enormous Max Air unit and springy foam for non-stop comfort.</td>\n",
       "        </tr>\n",
       "        <tr>\n",
       "            <td>NAHA</td>\n",
       "            <td>No description</td>\n",
       "        </tr>\n",
       "        <tr>\n",
       "            <td>Men&#x27;s adidas Essentials Eezay Flip-Flops</td>\n",
       "            <td>Be ready for warm breezes and a laid-back feel. These flip-flops feature a colorblocked design. The simple silhouette offers midsole cushioning and lightweight comfort.</td>\n",
       "        </tr>\n",
       "        <tr>\n",
       "            <td>Nike Flex TR 9</td>\n",
       "            <td>Designed for low-impact workouts and circuit training, the Nike Flex TR 9 pairs a breathable mesh and synthetic upper with a supportive platform designed for flexibility and traction.</td>\n",
       "        </tr>\n",
       "        <tr>\n",
       "            <td>Men&#x27;s adidas Comfort Flip Flops</td>\n",
       "            <td>Wear them all summer from the pool to the beach. These sandals combine rugged durability with quick-drying step-in cushioning as you spend your day in comfortable bliss. Heritage details show off your adidas inspiration.</td>\n",
       "        </tr>\n",
       "        <tr>\n",
       "            <td>Nike Air Force 1 &#x27;07</td>\n",
       "            <td>The legend lives on in the Nike Air Force 1 &#x27;07, a modern take on the iconic AF1 that blends classic style with fresh colours and details.</td>\n",
       "        </tr>\n",
       "        <tr>\n",
       "            <td>Nike Air Force 1 Sage Low LX</td>\n",
       "            <td>Taking both height and craft to new levels, the Nike Air Force 1 Sage Low LX features a platform midsole and pared-down upper. Rolled edges and clean lines replace traditional overlays for a bold look.</td>\n",
       "        </tr>\n",
       "        <tr>\n",
       "            <td>Nike Air Max Verona</td>\n",
       "            <td>Pass on the good vibes in the Nike Air Max Verona. Elegant and versatile, its mixed-material upper features a plush collar, flashy colours and unique stitching patterns. The Nike Air cushioning adds a modern twist, comfort and style to your journey.</td>\n",
       "        </tr>\n",
       "    </tbody>\n",
       "</table>"
      ],
      "text/plain": [
       "[('NikeCourt Zoom Cage 3', 'The NikeCourt Zoom Cage 3 offers zoned durability with a lightweight, pliable overlay that moves with you. A Zoom Air unit in the heel delivers a low-profile ride with responsive cushioning.'),\n",
       " ('Nike Metcon Sport', 'The Nike Metcon Sport is designed for heavy weightlifting like all Metcons, but is updated for increased agility during explosive movements and speed drills.'),\n",
       " ('Jordan Mars 270', 'Drawing inspiration from four classic Air Jordans, the Jordan Mars 270 is a modern-day remix that offers a heavy dose of heritage, plus an enormous Max Air unit and springy foam for non-stop comfort.'),\n",
       " ('NAHA', 'No description'),\n",
       " (\"Men's adidas Essentials Eezay Flip-Flops\", 'Be ready for warm breezes and a laid-back feel. These flip-flops feature a colorblocked design. The simple silhouette offers midsole cushioning and lightweight comfort.'),\n",
       " ('Nike Flex TR 9', 'Designed for low-impact workouts and circuit training, the Nike Flex TR 9 pairs a breathable mesh and synthetic upper with a supportive platform designed for flexibility and traction.'),\n",
       " (\"Men's adidas Comfort Flip Flops\", 'Wear them all summer from the pool to the beach. These sandals combine rugged durability with quick-drying step-in cushioning as you spend your day in comfortable bliss. Heritage details show off your adidas inspiration.'),\n",
       " (\"Nike Air Force 1 '07\", \"The legend lives on in the Nike Air Force 1 '07, a modern take on the iconic AF1 that blends classic style with fresh colours and details.\"),\n",
       " ('Nike Air Force 1 Sage Low LX', 'Taking both height and craft to new levels, the Nike Air Force 1 Sage Low LX features a platform midsole and pared-down upper. Rolled edges and clean lines replace traditional overlays for a bold look.'),\n",
       " ('Nike Air Max Verona', 'Pass on the good vibes in the Nike Air Max Verona. Elegant and versatile, its mixed-material upper features a plush collar, flashy colours and unique stitching patterns. The Nike Air cushioning adds a modern twist, comfort and style to your journey.')]"
      ]
     },
     "execution_count": 29,
     "metadata": {},
     "output_type": "execute_result"
    }
   ],
   "source": [
    "%%sql\n",
    "WITH footwear AS\n",
    "(\n",
    "    SELECT i.description, f.revenue\n",
    "    FROM info AS i\n",
    "    INNER JOIN finance AS f \n",
    "        ON i.product_id = f.product_id\n",
    "    WHERE i.modified_description LIKE '%shoe%' COLLATE NOCASE\n",
    "        OR i.modified_description LIKE '%trainer%' COLLATE NOCASE\n",
    "        OR i.modified_description LIKE '%foot%' COLLATE NOCASE\n",
    "        OR i.modified_description LIKE '%slipper%' COLLATE NOCASE\n",
    "        OR i.product_name LIKE '%shoe%' COLLATE NOCASE\n",
    "        OR i.product_name LIKE '%trainer%' COLLATE NOCASE\n",
    "        OR i.product_name LIKE '%foot%' COLLATE NOCASE\n",
    "        OR i.product_name LIKE '%slipper%' COLLATE NOCASE\n",
    "        OR i.product_name LIKE '%sandal%' COLLATE NOCASE\n",
    "        OR i.product_name LIKE '%slipper%' COLLATE NOCASE\n",
    "        OR i.product_name LIKE '%slide%' COLLATE NOCASE\n",
    "        \n",
    "        AND i.description IS NOT NULL\n",
    ")\n",
    "SELECT \n",
    "    product_name, \n",
    "    description\n",
    "FROM info\n",
    "WHERE modified_description NOT IN (select description from footwear)\n",
    "    AND modified_description IS NOT NULL\n",
    "LIMIT 10;"
   ]
  },
  {
   "cell_type": "markdown",
   "id": "bdba2155-e6b6-4b88-a6c6-fab271ee88b7",
   "metadata": {
    "tags": []
   },
   "source": [
    "### Analyzing Revenue by Month and Brand\n",
    "To gain insights into the revenue patterns by month and brand, we performed a study on the dataset. However, it is important to note that SQLite does not support the ROLLUP function. As a result, we had to conduct a second query to present the revenue breakdown by brand.\n",
    "\n",
    "Insights: The brand Adidas accounts for approximately 93% of the total revenues, confirming its dominant presence in the business model. However, it is concerning that Nike's revenue contribution is not substantial. This raises a yellow flag as it suggests a potential dependence of the store on Adidas, which could pose a risk to the overall business.\n",
    "\n",
    "Furthermore, when examining the revenue trends by month, it was observed that the **first quarter experiences a peak season** with higher revenue generation. This suggests a seasonal pattern where the initial months exhibit increased sales and revenue for the company. Limitation: the available data in the traffic table only covers the period from january-2018 to april-2020."
   ]
  },
  {
   "cell_type": "code",
   "execution_count": 30,
   "id": "955a0b09-169e-4bc7-b232-722b3340d292",
   "metadata": {
    "tags": []
   },
   "outputs": [
    {
     "name": "stdout",
     "output_type": "stream",
     "text": [
      " * sqlite:///C:/Users/angel/retailDB.sqlite\n",
      "Done.\n"
     ]
    },
    {
     "data": {
      "text/html": [
       "<table>\n",
       "    <thead>\n",
       "        <tr>\n",
       "            <th>modified_brand</th>\n",
       "            <th>month</th>\n",
       "            <th>revenue</th>\n",
       "            <th>rank_months</th>\n",
       "        </tr>\n",
       "    </thead>\n",
       "    <tbody>\n",
       "        <tr>\n",
       "            <td>Adidas</td>\n",
       "            <td>3</td>\n",
       "            <td>1160076.0</td>\n",
       "            <td>1</td>\n",
       "        </tr>\n",
       "        <tr>\n",
       "            <td>Adidas</td>\n",
       "            <td>2</td>\n",
       "            <td>1153612.0</td>\n",
       "            <td>2</td>\n",
       "        </tr>\n",
       "        <tr>\n",
       "            <td>Adidas</td>\n",
       "            <td>1</td>\n",
       "            <td>1085808.0</td>\n",
       "            <td>3</td>\n",
       "        </tr>\n",
       "        <tr>\n",
       "            <td>Adidas</td>\n",
       "            <td>10</td>\n",
       "            <td>908116.0</td>\n",
       "            <td>4</td>\n",
       "        </tr>\n",
       "        <tr>\n",
       "            <td>Adidas</td>\n",
       "            <td>8</td>\n",
       "            <td>889349.0</td>\n",
       "            <td>5</td>\n",
       "        </tr>\n",
       "        <tr>\n",
       "            <td>Adidas</td>\n",
       "            <td>9</td>\n",
       "            <td>879675.0</td>\n",
       "            <td>6</td>\n",
       "        </tr>\n",
       "        <tr>\n",
       "            <td>Adidas</td>\n",
       "            <td>4</td>\n",
       "            <td>854965.0</td>\n",
       "            <td>7</td>\n",
       "        </tr>\n",
       "        <tr>\n",
       "            <td>Adidas</td>\n",
       "            <td>12</td>\n",
       "            <td>796053.0</td>\n",
       "            <td>8</td>\n",
       "        </tr>\n",
       "        <tr>\n",
       "            <td>Adidas</td>\n",
       "            <td>7</td>\n",
       "            <td>779543.0</td>\n",
       "            <td>9</td>\n",
       "        </tr>\n",
       "        <tr>\n",
       "            <td>Adidas</td>\n",
       "            <td>6</td>\n",
       "            <td>727416.0</td>\n",
       "            <td>10</td>\n",
       "        </tr>\n",
       "        <tr>\n",
       "            <td>Adidas</td>\n",
       "            <td>5</td>\n",
       "            <td>708605.0</td>\n",
       "            <td>11</td>\n",
       "        </tr>\n",
       "        <tr>\n",
       "            <td>Adidas</td>\n",
       "            <td>11</td>\n",
       "            <td>688614.0</td>\n",
       "            <td>12</td>\n",
       "        </tr>\n",
       "        <tr>\n",
       "            <td>Nike</td>\n",
       "            <td>5</td>\n",
       "            <td>123508.0</td>\n",
       "            <td>1</td>\n",
       "        </tr>\n",
       "        <tr>\n",
       "            <td>Nike</td>\n",
       "            <td>3</td>\n",
       "            <td>117691.0</td>\n",
       "            <td>2</td>\n",
       "        </tr>\n",
       "        <tr>\n",
       "            <td>Nike</td>\n",
       "            <td>7</td>\n",
       "            <td>103507.0</td>\n",
       "            <td>3</td>\n",
       "        </tr>\n",
       "        <tr>\n",
       "            <td>Nike</td>\n",
       "            <td>2</td>\n",
       "            <td>63085.0</td>\n",
       "            <td>4</td>\n",
       "        </tr>\n",
       "        <tr>\n",
       "            <td>Nike</td>\n",
       "            <td>12</td>\n",
       "            <td>60557.0</td>\n",
       "            <td>5</td>\n",
       "        </tr>\n",
       "        <tr>\n",
       "            <td>Nike</td>\n",
       "            <td>1</td>\n",
       "            <td>57581.0</td>\n",
       "            <td>6</td>\n",
       "        </tr>\n",
       "        <tr>\n",
       "            <td>Nike</td>\n",
       "            <td>4</td>\n",
       "            <td>52706.0</td>\n",
       "            <td>7</td>\n",
       "        </tr>\n",
       "        <tr>\n",
       "            <td>Nike</td>\n",
       "            <td>6</td>\n",
       "            <td>49764.0</td>\n",
       "            <td>8</td>\n",
       "        </tr>\n",
       "        <tr>\n",
       "            <td>Nike</td>\n",
       "            <td>11</td>\n",
       "            <td>36522.0</td>\n",
       "            <td>9</td>\n",
       "        </tr>\n",
       "        <tr>\n",
       "            <td>Nike</td>\n",
       "            <td>9</td>\n",
       "            <td>35367.0</td>\n",
       "            <td>10</td>\n",
       "        </tr>\n",
       "        <tr>\n",
       "            <td>Nike</td>\n",
       "            <td>8</td>\n",
       "            <td>31574.0</td>\n",
       "            <td>11</td>\n",
       "        </tr>\n",
       "        <tr>\n",
       "            <td>Nike</td>\n",
       "            <td>10</td>\n",
       "            <td>29714.0</td>\n",
       "            <td>12</td>\n",
       "        </tr>\n",
       "    </tbody>\n",
       "</table>"
      ],
      "text/plain": [
       "[('Adidas', 3, 1160076.0, 1),\n",
       " ('Adidas', 2, 1153612.0, 2),\n",
       " ('Adidas', 1, 1085808.0, 3),\n",
       " ('Adidas', 10, 908116.0, 4),\n",
       " ('Adidas', 8, 889349.0, 5),\n",
       " ('Adidas', 9, 879675.0, 6),\n",
       " ('Adidas', 4, 854965.0, 7),\n",
       " ('Adidas', 12, 796053.0, 8),\n",
       " ('Adidas', 7, 779543.0, 9),\n",
       " ('Adidas', 6, 727416.0, 10),\n",
       " ('Adidas', 5, 708605.0, 11),\n",
       " ('Adidas', 11, 688614.0, 12),\n",
       " ('Nike', 5, 123508.0, 1),\n",
       " ('Nike', 3, 117691.0, 2),\n",
       " ('Nike', 7, 103507.0, 3),\n",
       " ('Nike', 2, 63085.0, 4),\n",
       " ('Nike', 12, 60557.0, 5),\n",
       " ('Nike', 1, 57581.0, 6),\n",
       " ('Nike', 4, 52706.0, 7),\n",
       " ('Nike', 6, 49764.0, 8),\n",
       " ('Nike', 11, 36522.0, 9),\n",
       " ('Nike', 9, 35367.0, 10),\n",
       " ('Nike', 8, 31574.0, 11),\n",
       " ('Nike', 10, 29714.0, 12)]"
      ]
     },
     "execution_count": 30,
     "metadata": {},
     "output_type": "execute_result"
    }
   ],
   "source": [
    "%%sql\n",
    "SELECT\n",
    "    b.modified_brand,\n",
    "    CAST(strftime('%m', t.modified_last_visited) AS INTEGER) AS month,\n",
    "    SUM(f.modified_revenue) AS revenue,\n",
    "    RANK() OVER(PARTITION BY b.modified_brand ORDER BY SUM(f.modified_revenue) DESC) AS rank_months\n",
    "FROM traffic AS t \n",
    "    INNER JOIN finance AS f\n",
    "    ON f.product_id = t.product_id\n",
    "    INNER JOIN brands AS b\n",
    "    ON b.product_id = t.product_id\n",
    "WHERE b.modified_brand IS NOT NULL \n",
    "    AND t.modified_last_visited IS NOT NULL \n",
    "    AND f.modified_revenue IS NOT NULL\n",
    "GROUP BY b.modified_brand, month\n",
    "ORDER BY revenue DESC, b.modified_brand, rank_months"
   ]
  },
  {
   "cell_type": "code",
   "execution_count": 31,
   "id": "a7ae7330-1f44-4138-bf9f-07c3cc827046",
   "metadata": {
    "tags": []
   },
   "outputs": [
    {
     "name": "stdout",
     "output_type": "stream",
     "text": [
      " * sqlite:///C:/Users/angel/retailDB.sqlite\n",
      "Done.\n"
     ]
    },
    {
     "data": {
      "text/html": [
       "<table>\n",
       "    <thead>\n",
       "        <tr>\n",
       "            <th>modified_brand</th>\n",
       "            <th>revenue</th>\n",
       "            <th>share_of_revenue</th>\n",
       "        </tr>\n",
       "    </thead>\n",
       "    <tbody>\n",
       "        <tr>\n",
       "            <td>Adidas</td>\n",
       "            <td>11526644.0</td>\n",
       "            <td>93.0</td>\n",
       "        </tr>\n",
       "        <tr>\n",
       "            <td>Nike</td>\n",
       "            <td>802302.0</td>\n",
       "            <td>7.0</td>\n",
       "        </tr>\n",
       "    </tbody>\n",
       "</table>"
      ],
      "text/plain": [
       "[('Adidas', 11526644.0, 93.0), ('Nike', 802302.0, 7.0)]"
      ]
     },
     "execution_count": 31,
     "metadata": {},
     "output_type": "execute_result"
    }
   ],
   "source": [
    "%%sql\n",
    "SELECT \n",
    "    b.modified_brand,\n",
    "    SUM(f.modified_revenue) AS revenue,\n",
    "    ROUND(SUM(f.modified_revenue)/12328946*100) AS share_of_revenue\n",
    "FROM brands AS b\n",
    "    INNER JOIN finance AS f \n",
    "    ON f.product_id = b.product_id\n",
    "WHERE modified_brand IS NOT NULL\n",
    "GROUP BY b.modified_brand   "
   ]
  },
  {
   "cell_type": "code",
   "execution_count": 32,
   "id": "0973f932-0e50-4d2a-bf47-b1d4abb7835a",
   "metadata": {
    "tags": []
   },
   "outputs": [
    {
     "name": "stdout",
     "output_type": "stream",
     "text": [
      " * sqlite:///C:/Users/angel/retailDB.sqlite\n",
      "Done.\n"
     ]
    },
    {
     "data": {
      "text/html": [
       "<table>\n",
       "    <thead>\n",
       "        <tr>\n",
       "            <th>first_visit</th>\n",
       "            <th>last_visit</th>\n",
       "        </tr>\n",
       "    </thead>\n",
       "    <tbody>\n",
       "        <tr>\n",
       "            <td>2018-01-01 00:00:00</td>\n",
       "            <td>2020-04-12 19:00:00</td>\n",
       "        </tr>\n",
       "    </tbody>\n",
       "</table>"
      ],
      "text/plain": [
       "[('2018-01-01 00:00:00', '2020-04-12 19:00:00')]"
      ]
     },
     "execution_count": 32,
     "metadata": {},
     "output_type": "execute_result"
    }
   ],
   "source": [
    "%%sql\n",
    "SELECT \n",
    "    min(modified_last_visited) AS first_visit, \n",
    "    max(modified_last_visited) AS last_visit\n",
    "FROM traffic"
   ]
  },
  {
   "cell_type": "markdown",
   "id": "ac645ccc-eecb-4399-bcf7-56eed211f27b",
   "metadata": {
    "tags": []
   },
   "source": [
    "### Conclusions\n",
    "\n",
    "- Adidas is the king with 93% of the revenue. But it may be a risk for the overall business. We need to analyze further the possible future impact. If there's no actual risk, focus on Adidas: this could involve strategic partnerships, targeted marketing campaigns, and product expansion within the Adidas brand.\n",
    "- Address Inconsistencies in Pricing and Discounts: The analysis revealed potential inaccuracies in the pricing and discount data, particularly in relation to Nike products. It is recommended to thoroughly review and rectify any discrepancies to ensure the accuracy and consistency of pricing information.\n",
    "- Reassess Nike Strategy: Although Nike's contribution to revenues is relatively low in comparison to Adidas, Nike has a big market-share in the world, so we need to identify potential reasons behind the lower performance and explore opportunities for improvement. This could involve refining the product range, revising pricing strategies, or implementing targeted marketing efforts to increase the brand's market presence.\n",
    "- Explore Revenue Diversification: While footwear products are the main focus of the retail store, consider exploring opportunities to diversify the product offerings. This could involve expanding into related product categories or introducing complementary items that align with customer preferences and market trends. The store can provide a complement of the footwear in order to earn extra money.\n",
    "- Leverage Seasonal Trends: The analysis identified a peak season in the first quarter, suggesting increased sales and revenue during that period. Capitalize on this seasonal pattern by aligning marketing efforts, promotions, and inventory management strategies to maximize sales and profitability during the high season.\n",
    "- Leverage Seasonal Trends II: It is important to note that the analysis revealed lower webpage visits near Christmas and New Year. This presents an opportunity to capitalize on the holiday season when people are actively purchasing gifts. To maximize sales and engagement during this period, consider implementing targeted campaigns and marketing efforts that resonate with the holiday spirit. This could involve offering exclusive discounts, creating festive promotions, or curating gift guides to help customers find the perfect presents."
   ]
  }
 ],
 "metadata": {
  "kernelspec": {
   "display_name": "Python 3 (ipykernel)",
   "language": "python",
   "name": "python3"
  },
  "language_info": {
   "codemirror_mode": {
    "name": "ipython",
    "version": 3
   },
   "file_extension": ".py",
   "mimetype": "text/x-python",
   "name": "python",
   "nbconvert_exporter": "python",
   "pygments_lexer": "ipython3",
   "version": "3.10.11"
  }
 },
 "nbformat": 4,
 "nbformat_minor": 5
}
